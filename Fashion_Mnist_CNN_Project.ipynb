{
  "nbformat": 4,
  "nbformat_minor": 0,
  "metadata": {
    "colab": {
      "provenance": [],
      "gpuType": "T4",
      "authorship_tag": "ABX9TyOZKWc7ImbKj2LvK6T34EVf",
      "include_colab_link": true
    },
    "kernelspec": {
      "name": "python3",
      "display_name": "Python 3"
    },
    "language_info": {
      "name": "python"
    },
    "accelerator": "GPU"
  },
  "cells": [
    {
      "cell_type": "markdown",
      "metadata": {
        "id": "view-in-github",
        "colab_type": "text"
      },
      "source": [
        "<a href=\"https://colab.research.google.com/github/Amit3804gupta/Car-Price-Predictor/blob/main/Fashion_Mnist_CNN_Project.ipynb\" target=\"_parent\"><img src=\"https://colab.research.google.com/assets/colab-badge.svg\" alt=\"Open In Colab\"/></a>"
      ]
    },
    {
      "cell_type": "markdown",
      "source": [
        "1. **Seeding for reproducibility**\n",
        "2. **Importing the dependencies**"
      ],
      "metadata": {
        "id": "BJskwYRS0NYe"
      }
    },
    {
      "cell_type": "code",
      "execution_count": 1,
      "metadata": {
        "id": "uoe3Z_2_uhkc"
      },
      "outputs": [],
      "source": [
        "# Set seeds for reproducibility\n",
        "import random\n",
        "random.seed(0)\n",
        "\n",
        "import numpy as np\n",
        "np.random.seed(0)\n",
        "\n",
        "import tensorflow as tf\n",
        "tf.random.set_seed(0)"
      ]
    },
    {
      "cell_type": "code",
      "source": [
        "from tensorflow.keras import datasets, layers, models\n",
        "import matplotlib.pyplot as plt"
      ],
      "metadata": {
        "id": "WcHt8y4fu5PW"
      },
      "execution_count": 2,
      "outputs": []
    },
    {
      "cell_type": "markdown",
      "source": [
        "\n",
        "\n",
        "*   Data Curation\n",
        "\n"
      ],
      "metadata": {
        "id": "gDXXWZ4N0iUR"
      }
    },
    {
      "cell_type": "code",
      "source": [
        "# Load and prepare the Fashion MNIST dataset\n",
        "fashion_mnist = datasets.fashion_mnist\n",
        "(train_images, train_labels), (test_images, test_labels) = fashion_mnist.load_data()"
      ],
      "metadata": {
        "colab": {
          "base_uri": "https://localhost:8080/",
          "height": 0
        },
        "id": "8rIJ4BV7vP5b",
        "outputId": "8e74d1bd-142f-41e0-8ace-f140ef1e0484"
      },
      "execution_count": 3,
      "outputs": [
        {
          "output_type": "stream",
          "name": "stdout",
          "text": [
            "Downloading data from https://storage.googleapis.com/tensorflow/tf-keras-datasets/train-labels-idx1-ubyte.gz\n",
            "\u001b[1m29515/29515\u001b[0m \u001b[32m━━━━━━━━━━━━━━━━━━━━\u001b[0m\u001b[37m\u001b[0m \u001b[1m0s\u001b[0m 0us/step\n",
            "Downloading data from https://storage.googleapis.com/tensorflow/tf-keras-datasets/train-images-idx3-ubyte.gz\n",
            "\u001b[1m26421880/26421880\u001b[0m \u001b[32m━━━━━━━━━━━━━━━━━━━━\u001b[0m\u001b[37m\u001b[0m \u001b[1m0s\u001b[0m 0us/step\n",
            "Downloading data from https://storage.googleapis.com/tensorflow/tf-keras-datasets/t10k-labels-idx1-ubyte.gz\n",
            "\u001b[1m5148/5148\u001b[0m \u001b[32m━━━━━━━━━━━━━━━━━━━━\u001b[0m\u001b[37m\u001b[0m \u001b[1m0s\u001b[0m 0us/step\n",
            "Downloading data from https://storage.googleapis.com/tensorflow/tf-keras-datasets/t10k-images-idx3-ubyte.gz\n",
            "\u001b[1m4422102/4422102\u001b[0m \u001b[32m━━━━━━━━━━━━━━━━━━━━\u001b[0m\u001b[37m\u001b[0m \u001b[1m0s\u001b[0m 0us/step\n"
          ]
        }
      ]
    },
    {
      "cell_type": "markdown",
      "source": [
        "\n",
        "\n",
        "*   Data Preprocessing\n"
      ],
      "metadata": {
        "id": "4uA2XT1P1KOx"
      }
    },
    {
      "cell_type": "code",
      "source": [
        "type(train_images)"
      ],
      "metadata": {
        "colab": {
          "base_uri": "https://localhost:8080/",
          "height": 0
        },
        "id": "wLNEcYemvmNR",
        "outputId": "ef359746-de72-4dce-efa1-19bafd5e8810"
      },
      "execution_count": 4,
      "outputs": [
        {
          "output_type": "execute_result",
          "data": {
            "text/plain": [
              "numpy.ndarray"
            ]
          },
          "metadata": {},
          "execution_count": 4
        }
      ]
    },
    {
      "cell_type": "code",
      "source": [
        "type(train_labels)"
      ],
      "metadata": {
        "colab": {
          "base_uri": "https://localhost:8080/",
          "height": 0
        },
        "id": "aiFYwCnHwAAm",
        "outputId": "8a4da8eb-b629-46af-f0a1-71be539c96e3"
      },
      "execution_count": 5,
      "outputs": [
        {
          "output_type": "execute_result",
          "data": {
            "text/plain": [
              "numpy.ndarray"
            ]
          },
          "metadata": {},
          "execution_count": 5
        }
      ]
    },
    {
      "cell_type": "code",
      "source": [
        "print(len(train_images))"
      ],
      "metadata": {
        "colab": {
          "base_uri": "https://localhost:8080/",
          "height": 0
        },
        "id": "ClE72_CMwCCb",
        "outputId": "faebea2c-7b09-4f70-986c-ac370e64b830"
      },
      "execution_count": 6,
      "outputs": [
        {
          "output_type": "stream",
          "name": "stdout",
          "text": [
            "60000\n"
          ]
        }
      ]
    },
    {
      "cell_type": "code",
      "source": [
        "print(len(train_labels))"
      ],
      "metadata": {
        "colab": {
          "base_uri": "https://localhost:8080/",
          "height": 0
        },
        "id": "lzlrK4atwD7d",
        "outputId": "aef9f315-e513-4338-d7c4-a0997fe261f2"
      },
      "execution_count": 7,
      "outputs": [
        {
          "output_type": "stream",
          "name": "stdout",
          "text": [
            "60000\n"
          ]
        }
      ]
    },
    {
      "cell_type": "code",
      "source": [
        "print(len(test_images))"
      ],
      "metadata": {
        "colab": {
          "base_uri": "https://localhost:8080/",
          "height": 0
        },
        "id": "Ery76gqqwGui",
        "outputId": "91539dc3-63c1-4989-dde6-babdc7a47680"
      },
      "execution_count": 8,
      "outputs": [
        {
          "output_type": "stream",
          "name": "stdout",
          "text": [
            "10000\n"
          ]
        }
      ]
    },
    {
      "cell_type": "code",
      "source": [
        "print(len(test_images))"
      ],
      "metadata": {
        "colab": {
          "base_uri": "https://localhost:8080/",
          "height": 0
        },
        "id": "aZyoWqkkwIr1",
        "outputId": "e1dbbaea-0487-4150-d282-97be2f74e2bf"
      },
      "execution_count": 9,
      "outputs": [
        {
          "output_type": "stream",
          "name": "stdout",
          "text": [
            "10000\n"
          ]
        }
      ]
    },
    {
      "cell_type": "code",
      "source": [
        "print(train_images[1].shape)"
      ],
      "metadata": {
        "colab": {
          "base_uri": "https://localhost:8080/",
          "height": 0
        },
        "id": "I9Iv4knIxHPh",
        "outputId": "b295bc71-123f-4932-d3e5-f6025cd47ad1"
      },
      "execution_count": 11,
      "outputs": [
        {
          "output_type": "stream",
          "name": "stdout",
          "text": [
            "(28, 28)\n"
          ]
        }
      ]
    },
    {
      "cell_type": "markdown",
      "source": [
        "**Display an Image from the Dataset**\n"
      ],
      "metadata": {
        "id": "v4lgWrpA1Ud0"
      }
    },
    {
      "cell_type": "code",
      "source": [
        "plt.imshow(train_images[1], cmap='gray')\n",
        "plt.show()"
      ],
      "metadata": {
        "colab": {
          "base_uri": "https://localhost:8080/",
          "height": 430
        },
        "id": "9xRQx7fixKOf",
        "outputId": "57a26cf8-04ee-4217-b54a-19418e10a1aa"
      },
      "execution_count": 12,
      "outputs": [
        {
          "output_type": "display_data",
          "data": {
            "text/plain": [
              "<Figure size 640x480 with 1 Axes>"
            ],
            "image/png": "[encoded data removed]"
          },
          "metadata": {}
        }
      ]
    },
    {
      "cell_type": "code",
      "source": [
        "print(train_labels[1])"
      ],
      "metadata": {
        "colab": {
          "base_uri": "https://localhost:8080/",
          "height": 0
        },
        "id": "p6HH_BlWxeCS",
        "outputId": "6dd27225-c657-444b-d83c-35136ae87d21"
      },
      "execution_count": 14,
      "outputs": [
        {
          "output_type": "stream",
          "name": "stdout",
          "text": [
            "0\n"
          ]
        }
      ]
    },
    {
      "cell_type": "code",
      "source": [
        "# Normalize pixel values to be between 0 and 1\n",
        "train_images, test_images = train_images / 255.0, test_images / 255.0"
      ],
      "metadata": {
        "id": "WnaUKBgBxivs"
      },
      "execution_count": 15,
      "outputs": []
    },
    {
      "cell_type": "code",
      "source": [
        "print(train_images[1])"
      ],
      "metadata": {
        "colab": {
          "base_uri": "https://localhost:8080/",
          "height": 0
        },
        "id": "VLHsD7CqxlVq",
        "outputId": "318dae82-7bea-4fab-db69-35391ebbf18d"
      },
      "execution_count": 16,
      "outputs": [
        {
          "output_type": "stream",
          "name": "stdout",
          "text": [
            "[[0.         0.         0.         0.         0.         0.00392157\n",
            "  0.         0.         0.         0.         0.16078431 0.7372549\n",
            "  0.40392157 0.21176471 0.18823529 0.16862745 0.34117647 0.65882353\n",
            "  0.52156863 0.0627451  0.         0.         0.         0.\n",
            "  0.         0.         0.         0.        ]\n",
            " [0.         0.         0.         0.00392157 0.         0.\n",
            "  0.         0.19215686 0.53333333 0.85882353 0.84705882 0.89411765\n",
            "  0.9254902  1.         1.         1.         1.         0.85098039\n",
            "  0.84313725 0.99607843 0.90588235 0.62745098 0.17647059 0.\n",
            "  0.         0.         0.         0.        ]\n",
            " [0.         0.         0.         0.         0.         0.05490196\n",
            "  0.69019608 0.87058824 0.87843137 0.83137255 0.79607843 0.77647059\n",
            "  0.76862745 0.78431373 0.84313725 0.8        0.79215686 0.78823529\n",
            "  0.78823529 0.78823529 0.81960784 0.85490196 0.87843137 0.64313725\n",
            "  0.         0.         0.         0.        ]\n",
            " [0.         0.         0.         0.         0.         0.7372549\n",
            "  0.85882353 0.78431373 0.77647059 0.79215686 0.77647059 0.78039216\n",
            "  0.78039216 0.78823529 0.76862745 0.77647059 0.77647059 0.78431373\n",
            "  0.78431373 0.78431373 0.78431373 0.78823529 0.78431373 0.88235294\n",
            "  0.16078431 0.         0.         0.        ]\n",
            " [0.         0.         0.         0.         0.2        0.85882353\n",
            "  0.78039216 0.79607843 0.79607843 0.83137255 0.93333333 0.97254902\n",
            "  0.98039216 0.96078431 0.97647059 0.96470588 0.96862745 0.98823529\n",
            "  0.97254902 0.92156863 0.81176471 0.79607843 0.79607843 0.87058824\n",
            "  0.54901961 0.         0.         0.        ]\n",
            " [0.         0.         0.         0.         0.45490196 0.88627451\n",
            "  0.80784314 0.8        0.81176471 0.8        0.39607843 0.29411765\n",
            "  0.18431373 0.28627451 0.18823529 0.19607843 0.17647059 0.2\n",
            "  0.24705882 0.44313725 0.87058824 0.79215686 0.80784314 0.8627451\n",
            "  0.87843137 0.         0.         0.        ]\n",
            " [0.         0.         0.         0.         0.78431373 0.87058824\n",
            "  0.81960784 0.79607843 0.84313725 0.78431373 0.         0.2745098\n",
            "  0.38431373 0.         0.40392157 0.23137255 0.26666667 0.27843137\n",
            "  0.19215686 0.         0.85882353 0.80784314 0.83921569 0.82352941\n",
            "  0.98039216 0.14901961 0.         0.        ]\n",
            " [0.         0.         0.         0.         0.96862745 0.85490196\n",
            "  0.83137255 0.82352941 0.84313725 0.83921569 0.         0.99607843\n",
            "  0.95294118 0.54509804 1.         0.68235294 0.98431373 1.\n",
            "  0.80392157 0.         0.84313725 0.85098039 0.83921569 0.81568627\n",
            "  0.8627451  0.37254902 0.         0.        ]\n",
            " [0.         0.         0.         0.17647059 0.88627451 0.83921569\n",
            "  0.83921569 0.84313725 0.87843137 0.80392157 0.         0.16470588\n",
            "  0.1372549  0.23529412 0.0627451  0.06666667 0.04705882 0.05098039\n",
            "  0.2745098  0.         0.74117647 0.84705882 0.83137255 0.80784314\n",
            "  0.83137255 0.61176471 0.         0.        ]\n",
            " [0.         0.         0.         0.64313725 0.92156863 0.83921569\n",
            "  0.82745098 0.8627451  0.84705882 0.78823529 0.20392157 0.27843137\n",
            "  0.34901961 0.36862745 0.3254902  0.30588235 0.2745098  0.29803922\n",
            "  0.36078431 0.34117647 0.80784314 0.81176471 0.87058824 0.83529412\n",
            "  0.85882353 0.81568627 0.         0.        ]\n",
            " [0.         0.         0.         0.41568627 0.73333333 0.8745098\n",
            "  0.92941176 0.97254902 0.82745098 0.77647059 0.98823529 0.98039216\n",
            "  0.97254902 0.96078431 0.97254902 0.98823529 0.99215686 0.98039216\n",
            "  0.98823529 0.9372549  0.78823529 0.83137255 0.88235294 0.84313725\n",
            "  0.75686275 0.44313725 0.         0.        ]\n",
            " [0.         0.         0.         0.         0.         0.06666667\n",
            "  0.21176471 0.62352941 0.87058824 0.75686275 0.81568627 0.75294118\n",
            "  0.77254902 0.78431373 0.78431373 0.78431373 0.78431373 0.78823529\n",
            "  0.79607843 0.76470588 0.82352941 0.64705882 0.         0.\n",
            "  0.         0.         0.         0.        ]\n",
            " [0.         0.         0.         0.         0.         0.\n",
            "  0.         0.18431373 0.88235294 0.75294118 0.83921569 0.79607843\n",
            "  0.80784314 0.8        0.8        0.80392157 0.80784314 0.8\n",
            "  0.83137255 0.77254902 0.85490196 0.41960784 0.         0.\n",
            "  0.         0.         0.         0.        ]\n",
            " [0.         0.         0.         0.         0.00392157 0.02352941\n",
            "  0.         0.18039216 0.83137255 0.76470588 0.83137255 0.79215686\n",
            "  0.80784314 0.80392157 0.8        0.80392157 0.80784314 0.8\n",
            "  0.83137255 0.78431373 0.85490196 0.35686275 0.         0.01176471\n",
            "  0.00392157 0.         0.         0.        ]\n",
            " [0.         0.         0.         0.         0.         0.00392157\n",
            "  0.         0.04313725 0.77254902 0.78039216 0.80392157 0.79215686\n",
            "  0.80392157 0.80784314 0.8        0.80392157 0.81176471 0.8\n",
            "  0.80392157 0.80392157 0.85490196 0.30196078 0.         0.01960784\n",
            "  0.         0.         0.         0.        ]\n",
            " [0.         0.         0.         0.         0.         0.01176471\n",
            "  0.         0.00784314 0.74901961 0.77647059 0.78823529 0.80392157\n",
            "  0.80784314 0.80392157 0.80392157 0.80784314 0.81960784 0.80784314\n",
            "  0.78039216 0.81960784 0.85882353 0.29019608 0.         0.01960784\n",
            "  0.         0.         0.         0.        ]\n",
            " [0.         0.         0.         0.         0.         0.00784314\n",
            "  0.         0.         0.7372549  0.77254902 0.78431373 0.81176471\n",
            "  0.81176471 0.8        0.81176471 0.81176471 0.82352941 0.81568627\n",
            "  0.77647059 0.81176471 0.86666667 0.28235294 0.         0.01568627\n",
            "  0.         0.         0.         0.        ]\n",
            " [0.         0.         0.         0.         0.         0.00784314\n",
            "  0.         0.         0.84313725 0.77647059 0.79607843 0.80784314\n",
            "  0.81568627 0.80392157 0.81176471 0.81176471 0.82352941 0.81568627\n",
            "  0.78431373 0.79215686 0.87058824 0.29411765 0.         0.01568627\n",
            "  0.         0.         0.         0.        ]\n",
            " [0.         0.         0.         0.         0.         0.00392157\n",
            "  0.         0.         0.83137255 0.77647059 0.81960784 0.80784314\n",
            "  0.81960784 0.80784314 0.81568627 0.81176471 0.82745098 0.80784314\n",
            "  0.80392157 0.77647059 0.86666667 0.31372549 0.         0.01176471\n",
            "  0.         0.         0.         0.        ]\n",
            " [0.         0.         0.         0.         0.         0.00392157\n",
            "  0.         0.         0.8        0.78823529 0.80392157 0.81568627\n",
            "  0.81176471 0.80392157 0.82745098 0.80392157 0.82352941 0.82352941\n",
            "  0.81960784 0.76470588 0.86666667 0.37647059 0.         0.01176471\n",
            "  0.         0.         0.         0.        ]\n",
            " [0.         0.         0.         0.         0.         0.00392157\n",
            "  0.         0.         0.79215686 0.78823529 0.80392157 0.81960784\n",
            "  0.81176471 0.80392157 0.83529412 0.80784314 0.82352941 0.81960784\n",
            "  0.82352941 0.76078431 0.85098039 0.41176471 0.         0.00784314\n",
            "  0.         0.         0.         0.        ]\n",
            " [0.         0.         0.         0.         0.         0.00392157\n",
            "  0.         0.         0.8        0.8        0.80392157 0.81568627\n",
            "  0.81176471 0.80392157 0.84313725 0.81176471 0.82352941 0.81568627\n",
            "  0.82745098 0.75686275 0.83529412 0.45098039 0.         0.00784314\n",
            "  0.         0.         0.         0.        ]\n",
            " [0.         0.         0.         0.         0.         0.\n",
            "  0.         0.         0.8        0.81176471 0.81176471 0.81568627\n",
            "  0.80784314 0.80784314 0.84313725 0.82352941 0.82352941 0.81176471\n",
            "  0.83137255 0.76470588 0.82352941 0.4627451  0.         0.00784314\n",
            "  0.         0.         0.         0.        ]\n",
            " [0.         0.         0.         0.         0.         0.00392157\n",
            "  0.         0.         0.77647059 0.81568627 0.81568627 0.81568627\n",
            "  0.8        0.81176471 0.83137255 0.83137255 0.82352941 0.81176471\n",
            "  0.82745098 0.76862745 0.81176471 0.4745098  0.         0.00392157\n",
            "  0.         0.         0.         0.        ]\n",
            " [0.         0.         0.         0.         0.         0.00392157\n",
            "  0.         0.         0.77647059 0.82352941 0.81176471 0.81568627\n",
            "  0.80784314 0.81960784 0.83529412 0.83137255 0.82745098 0.81176471\n",
            "  0.82352941 0.77254902 0.81176471 0.48627451 0.         0.00392157\n",
            "  0.         0.         0.         0.        ]\n",
            " [0.         0.         0.         0.         0.         0.\n",
            "  0.         0.         0.6745098  0.82352941 0.79607843 0.78823529\n",
            "  0.78039216 0.8        0.81176471 0.80392157 0.8        0.78823529\n",
            "  0.80392157 0.77254902 0.80784314 0.49803922 0.         0.\n",
            "  0.         0.         0.         0.        ]\n",
            " [0.         0.         0.         0.         0.         0.\n",
            "  0.         0.         0.7372549  0.86666667 0.83921569 0.91764706\n",
            "  0.9254902  0.93333333 0.95686275 0.95686275 0.95686275 0.94117647\n",
            "  0.95294118 0.83921569 0.87843137 0.63529412 0.         0.00784314\n",
            "  0.         0.         0.         0.        ]\n",
            " [0.         0.         0.         0.         0.         0.00392157\n",
            "  0.         0.         0.54509804 0.57254902 0.50980392 0.52941176\n",
            "  0.52941176 0.5372549  0.49019608 0.48627451 0.49019608 0.4745098\n",
            "  0.46666667 0.44705882 0.50980392 0.29803922 0.         0.\n",
            "  0.         0.         0.         0.        ]]\n"
          ]
        }
      ]
    },
    {
      "cell_type": "code",
      "source": [
        "# Reshape images to specify that it's a single channel (grayscale)\n",
        "train_images = train_images.reshape((train_images.shape[0], 28, 28,1))\n",
        "test_images = test_images.reshape((test_images.shape[0], 28, 28,1))"
      ],
      "metadata": {
        "id": "iqtU4L8FxrBy"
      },
      "execution_count": 19,
      "outputs": []
    },
    {
      "cell_type": "code",
      "source": [
        "train_images.shape"
      ],
      "metadata": {
        "colab": {
          "base_uri": "https://localhost:8080/",
          "height": 0
        },
        "id": "1PmDjod2xzNg",
        "outputId": "84f3fc94-7573-422b-9c72-5c7764f38643"
      },
      "execution_count": 20,
      "outputs": [
        {
          "output_type": "execute_result",
          "data": {
            "text/plain": [
              "(60000, 28, 28, 1)"
            ]
          },
          "metadata": {},
          "execution_count": 20
        }
      ]
    },
    {
      "cell_type": "code",
      "source": [
        "test_images.shape"
      ],
      "metadata": {
        "colab": {
          "base_uri": "https://localhost:8080/",
          "height": 0
        },
        "id": "G7d7Pw_tyfxu",
        "outputId": "149fb050-4bb6-46ea-c1fe-4eb4feca386c"
      },
      "execution_count": 21,
      "outputs": [
        {
          "output_type": "execute_result",
          "data": {
            "text/plain": [
              "(10000, 28, 28, 1)"
            ]
          },
          "metadata": {},
          "execution_count": 21
        }
      ]
    },
    {
      "cell_type": "markdown",
      "source": [
        "**Convolutional Neural Network**"
      ],
      "metadata": {
        "id": "w5EaHft_1jwg"
      }
    },
    {
      "cell_type": "code",
      "source": [
        "# Build the convolutional base\n",
        "model = models.Sequential()\n",
        "model.add(layers.Conv2D(32, (3, 3), activation='relu', input_shape=(28, 28, 1)))\n",
        "model.add(layers.MaxPooling2D((2, 2)))\n",
        "model.add(layers.Conv2D(64, (3, 3), activation='relu'))\n",
        "model.add(layers.MaxPooling2D((2, 2)))\n",
        "model.add(layers.Conv2D(64, (3, 3), activation='relu'))\n",
        "\n",
        "# Add Dense layers on top\n",
        "model.add(layers.Flatten())\n",
        "model.add(layers.Dense(64, activation='relu'))\n",
        "model.add(layers.Dense(10))"
      ],
      "metadata": {
        "colab": {
          "base_uri": "https://localhost:8080/",
          "height": 0
        },
        "id": "EE71XT4tyhdR",
        "outputId": "a27e0b8b-f2b5-49bb-8f16-85c287e541bc"
      },
      "execution_count": 22,
      "outputs": [
        {
          "output_type": "stream",
          "name": "stderr",
          "text": [
            "/usr/local/lib/python3.11/dist-packages/keras/src/layers/convolutional/base_conv.py:107: UserWarning: Do not pass an `input_shape`/`input_dim` argument to a layer. When using Sequential models, prefer using an `Input(shape)` object as the first layer in the model instead.\n",
            "  super().__init__(activity_regularizer=activity_regularizer, **kwargs)\n"
          ]
        }
      ]
    },
    {
      "cell_type": "code",
      "source": [
        "# Compile and train the model\n",
        "model.compile(optimizer='adam',\n",
        "              loss=tf.keras.losses.SparseCategoricalCrossentropy(from_logits=True),\n",
        "              metrics=['accuracy'])"
      ],
      "metadata": {
        "id": "TgR0hQNtykY5"
      },
      "execution_count": 23,
      "outputs": []
    },
    {
      "cell_type": "markdown",
      "source": [
        "**Model Training**"
      ],
      "metadata": {
        "id": "ORaSIyG-1pag"
      }
    },
    {
      "cell_type": "code",
      "source": [
        "history = model.fit(train_images, train_labels, epochs=5,\n",
        "                    validation_data=(test_images, test_labels))"
      ],
      "metadata": {
        "colab": {
          "base_uri": "https://localhost:8080/",
          "height": 0
        },
        "id": "8Bg05kz8ynq6",
        "outputId": "4d994ca6-098a-4cc1-9be8-46da97c85796"
      },
      "execution_count": 24,
      "outputs": [
        {
          "output_type": "stream",
          "name": "stdout",
          "text": [
            "Epoch 1/5\n",
            "\u001b[1m1875/1875\u001b[0m \u001b[32m━━━━━━━━━━━━━━━━━━━━\u001b[0m\u001b[37m\u001b[0m \u001b[1m13s\u001b[0m 4ms/step - accuracy: 0.7467 - loss: 0.6953 - val_accuracy: 0.8689 - val_loss: 0.3624\n",
            "Epoch 2/5\n",
            "\u001b[1m1875/1875\u001b[0m \u001b[32m━━━━━━━━━━━━━━━━━━━━\u001b[0m\u001b[37m\u001b[0m \u001b[1m7s\u001b[0m 4ms/step - accuracy: 0.8777 - loss: 0.3350 - val_accuracy: 0.8846 - val_loss: 0.3174\n",
            "Epoch 3/5\n",
            "\u001b[1m1875/1875\u001b[0m \u001b[32m━━━━━━━━━━━━━━━━━━━━\u001b[0m\u001b[37m\u001b[0m \u001b[1m7s\u001b[0m 4ms/step - accuracy: 0.8973 - loss: 0.2824 - val_accuracy: 0.8951 - val_loss: 0.2903\n",
            "Epoch 4/5\n",
            "\u001b[1m1875/1875\u001b[0m \u001b[32m━━━━━━━━━━━━━━━━━━━━\u001b[0m\u001b[37m\u001b[0m \u001b[1m6s\u001b[0m 3ms/step - accuracy: 0.9091 - loss: 0.2467 - val_accuracy: 0.8972 - val_loss: 0.2821\n",
            "Epoch 5/5\n",
            "\u001b[1m1875/1875\u001b[0m \u001b[32m━━━━━━━━━━━━━━━━━━━━\u001b[0m\u001b[37m\u001b[0m \u001b[1m11s\u001b[0m 4ms/step - accuracy: 0.9184 - loss: 0.2185 - val_accuracy: 0.8938 - val_loss: 0.2944\n"
          ]
        }
      ]
    },
    {
      "cell_type": "markdown",
      "source": [
        "**Model Evaluation**"
      ],
      "metadata": {
        "id": "h9xxKnlS1tvR"
      }
    },
    {
      "cell_type": "code",
      "source": [
        "# Evaluate the model\n",
        "test_loss, test_acc = model.evaluate(test_images,  test_labels, verbose=2)\n",
        "print('\\nTest accuracy:', test_acc)"
      ],
      "metadata": {
        "colab": {
          "base_uri": "https://localhost:8080/",
          "height": 0
        },
        "id": "zCp5eJSIyp4s",
        "outputId": "d5a889ea-8b08-4066-cc94-a439e72a2f41"
      },
      "execution_count": 27,
      "outputs": [
        {
          "output_type": "stream",
          "name": "stdout",
          "text": [
            "313/313 - 1s - 4ms/step - accuracy: 0.8938 - loss: 0.2944\n",
            "\n",
            "Test accuracy: 0.8938000202178955\n"
          ]
        }
      ]
    },
    {
      "cell_type": "code",
      "source": [
        "# Plot training & validation accuracy values\n",
        "plt.plot(history.history['accuracy'])\n",
        "plt.plot(history.history['val_accuracy'])\n",
        "plt.title('Model accuracy')\n",
        "plt.ylabel('Accuracy')\n",
        "plt.xlabel('Epoch')\n",
        "plt.legend(['Train', 'Test'], loc='upper left')\n",
        "plt.show()\n",
        "\n",
        "# Plot training & validation loss values\n",
        "plt.plot(history.history['loss'])\n",
        "plt.plot(history.history['val_loss'])\n",
        "plt.title('Model loss')\n",
        "plt.ylabel('Loss')\n",
        "plt.xlabel('Epoch')\n",
        "plt.legend(['Train', 'Test'], loc='upper left')\n",
        "plt.show()"
      ],
      "metadata": {
        "colab": {
          "base_uri": "https://localhost:8080/",
          "height": 927
        },
        "id": "tmAlqSJpy8hP",
        "outputId": "118ab8be-2864-4608-d21a-e50c3fa3ed43"
      },
      "execution_count": 28,
      "outputs": [
        {
          "output_type": "display_data",
          "data": {
            "text/plain": [
              "<Figure size 640x480 with 1 Axes>"
            ],
            "image/png": "[encoded data removed]"
          },
          "metadata": {}
        },
        {
          "output_type": "display_data",
          "data": {
            "text/plain": [
              "<Figure size 640x480 with 1 Axes>"
            ],
            "image/png": "[encoded data removed]"
          },
          "metadata": {}
        }
      ]
    },
    {
      "cell_type": "code",
      "source": [
        "model.save('trained_fashion_mnist_model.h5')"
      ],
      "metadata": {
        "colab": {
          "base_uri": "https://localhost:8080/",
          "height": 0
        },
        "id": "TwxlSBoKzIbx",
        "outputId": "ec30860a-f195-45d6-d78b-7d60075cc251"
      },
      "execution_count": 31,
      "outputs": [
        {
          "output_type": "stream",
          "name": "stderr",
          "text": [
            "WARNING:absl:You are saving your model as an HDF5 file via `model.save()` or `keras.saving.save_model(model)`. This file format is considered legacy. We recommend using instead the native Keras format, e.g. `model.save('my_model.keras')` or `keras.saving.save_model(model, 'my_model.keras')`. \n"
          ]
        }
      ]
    }
  ]
}